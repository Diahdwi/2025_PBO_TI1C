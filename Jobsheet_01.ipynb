{
  "nbformat": 4,
  "nbformat_minor": 0,
  "metadata": {
    "colab": {
      "provenance": [],
      "authorship_tag": "ABX9TyNEqm7IThouGACZIDiFg1LL",
      "include_colab_link": true
    },
    "kernelspec": {
      "name": "python3",
      "display_name": "Python 3"
    },
    "language_info": {
      "name": "python"
    }
  },
  "cells": [
    {
      "cell_type": "markdown",
      "metadata": {
        "id": "view-in-github",
        "colab_type": "text"
      },
      "source": [
        "<a href=\"https://colab.research.google.com/github/Diahdwi/2025_PBO_TI1C/blob/main/Jobsheet_01.ipynb\" target=\"_parent\"><img src=\"https://colab.research.google.com/assets/colab-badge.svg\" alt=\"Open In Colab\"/></a>"
      ]
    },
    {
      "cell_type": "code",
      "execution_count": null,
      "metadata": {
        "id": "g86NAMfPH150"
      },
      "outputs": [],
      "source": [
        "# 1. Number (int, float, complex)\n",
        "# INteger (int)\n",
        "\n",
        "angka_int = 10\n",
        "print (\"angka_int\" =, angka_int, \"->\", type(angka_int))\n",
        "\n",
        "#float\n",
        "angka_float = 3.14\n",
        "print (\"angka_float =\", angka_float, \"->\", type (angka_float))\n",
        "\n"
      ]
    }
  ]
}