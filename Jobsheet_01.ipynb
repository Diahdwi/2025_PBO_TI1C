{
  "nbformat": 4,
  "nbformat_minor": 0,
  "metadata": {
    "colab": {
      "provenance": [],
      "authorship_tag": "ABX9TyOq3H+TWlpGPIvyqk29GuYa",
      "include_colab_link": true
    },
    "kernelspec": {
      "name": "python3",
      "display_name": "Python 3"
    },
    "language_info": {
      "name": "python"
    }
  },
  "cells": [
    {
      "cell_type": "markdown",
      "metadata": {
        "id": "view-in-github",
        "colab_type": "text"
      },
      "source": [
        "<a href=\"https://colab.research.google.com/github/Diahdwi/2025_PBO_TI1C/blob/main/Jobsheet_01.ipynb\" target=\"_parent\"><img src=\"https://colab.research.google.com/assets/colab-badge.svg\" alt=\"Open In Colab\"/></a>"
      ]
    },
    {
      "cell_type": "markdown",
      "source": [
        "# Jobsheet_1_DasarPemrogramanPython"
      ],
      "metadata": {
        "id": "Bfaa_ENMeNo0"
      }
    },
    {
      "cell_type": "markdown",
      "source": [
        "#  Praktikum_01_TipeDataDasar"
      ],
      "metadata": {
        "id": "9KzwPjASeaJk"
      }
    },
    {
      "cell_type": "code",
      "source": [
        "# 1. Number (int, float, complex)\n",
        "# INteger (int)\n",
        "\n",
        "angka_int = 10\n",
        "print (\"angka_int\" =, angka_int, \"->\", type(angka_int))\n",
        "\n",
        "#float\n",
        "angka_float = 3.14\n",
        "print (\"angka_float =\", angka_float, \"->\", type (angka_float))\n"
      ],
      "metadata": {
        "id": "1eZ-qVoQePi9"
      },
      "execution_count": null,
      "outputs": []
    }
  ]
}