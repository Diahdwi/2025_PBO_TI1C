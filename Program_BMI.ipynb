{
  "nbformat": 4,
  "nbformat_minor": 0,
  "metadata": {
    "colab": {
      "provenance": [],
      "authorship_tag": "ABX9TyMhjWn2bIqFyJHbV6zRzIyO",
      "include_colab_link": true
    },
    "kernelspec": {
      "name": "python3",
      "display_name": "Python 3"
    },
    "language_info": {
      "name": "python"
    }
  },
  "cells": [
    {
      "cell_type": "markdown",
      "metadata": {
        "id": "view-in-github",
        "colab_type": "text"
      },
      "source": [
        "<a href=\"https://colab.research.google.com/github/Diahdwi/2025_PBO_TI1C/blob/main/Program_BMI.ipynb\" target=\"_parent\"><img src=\"https://colab.research.google.com/assets/colab-badge.svg\" alt=\"Open In Colab\"/></a>"
      ]
    },
    {
      "cell_type": "code",
      "execution_count": 1,
      "metadata": {
        "colab": {
          "base_uri": "https://localhost:8080/"
        },
        "id": "WQcZgjjTCnCp",
        "outputId": "d59cbddb-8616-4bcc-aa06-176c659225f3"
      },
      "outputs": [
        {
          "output_type": "stream",
          "name": "stdout",
          "text": [
            "Masukkan berat badan (kg): 60\n",
            "Masukkan tinggi badan (cm): 160\n",
            "\n",
            "Hasil Perhitungan BMI:\n",
            "BMI Anda: 23.44\n",
            "Kategori: Normal\n"
          ]
        }
      ],
      "source": [
        "# Input berat badan (kg) dan tinggi badan (cm)\n",
        "berat = float(input(\"Masukkan berat badan (kg): \"))\n",
        "tinggi_cm = float(input(\"Masukkan tinggi badan (cm): \"))\n",
        "\n",
        "tinggi_m = tinggi_cm / 100 # Konversi cm ke m\n",
        "\n",
        "# Menghitung BMI\n",
        "bmi = berat / (tinggi_m ** 2)\n",
        "\n",
        "# Menentukan kategori BMI\n",
        "if bmi < 18.5:\n",
        "    kategori = \"Underweight (Kurus)\"\n",
        "elif 18.5 <= bmi < 24.9:\n",
        "    kategori = \"Normal\"\n",
        "elif 25 <= bmi < 29.9:\n",
        "    kategori = \"Overweight (Gemuk)\"\n",
        "else:\n",
        "    kategori = \"Obese (Obesitas)\"\n",
        "\n",
        "# Menampilkan hasil\n",
        "print(\"\\nHasil Perhitungan BMI:\")\n",
        "print(f\"BMI Anda: {bmi:.2f}\")\n",
        "print(f\"Kategori: {kategori}\")\n"
      ]
    },
    {
      "cell_type": "code",
      "source": [],
      "metadata": {
        "id": "fZzYsu9UC7fv"
      },
      "execution_count": null,
      "outputs": []
    }
  ]
}