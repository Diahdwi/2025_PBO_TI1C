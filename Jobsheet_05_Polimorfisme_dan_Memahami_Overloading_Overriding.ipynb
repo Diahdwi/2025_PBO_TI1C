{
  "nbformat": 4,
  "nbformat_minor": 0,
  "metadata": {
    "colab": {
      "provenance": [],
      "authorship_tag": "ABX9TyM9dqBaokTeJWEyfuH+Dzf3",
      "include_colab_link": true
    },
    "kernelspec": {
      "name": "python3",
      "display_name": "Python 3"
    },
    "language_info": {
      "name": "python"
    }
  },
  "cells": [
    {
      "cell_type": "markdown",
      "metadata": {
        "id": "view-in-github",
        "colab_type": "text"
      },
      "source": [
        "<a href=\"https://colab.research.google.com/github/Diahdwi/2025_PBO_TI1C/blob/main/Jobsheet_05_Polimorfisme_dan_Memahami_Overloading_Overriding.ipynb\" target=\"_parent\"><img src=\"https://colab.research.google.com/assets/colab-badge.svg\" alt=\"Open In Colab\"/></a>"
      ]
    },
    {
      "cell_type": "markdown",
      "source": [
        "## JOBSHEET 05:  POLIMORFISME DAN MEMAHAMI OVERLOADING/OVERRIDING"
      ],
      "metadata": {
        "id": "FyIwKQbjvkTm"
      }
    },
    {
      "cell_type": "markdown",
      "source": [
        "# Praktikum 01 : Polimorfisme dengan Inheritance dan Overriding"
      ],
      "metadata": {
        "id": "E5Ry352mvwqR"
      }
    },
    {
      "cell_type": "code",
      "source": [
        "#Kelas induk\n",
        "class Burung:\n",
        "  def __init__(self, nama):\n",
        "    self.nama = nama\n",
        "\n",
        "  def terbang(self):\n",
        "    print (f\"{self.nama} terbang dengan cara umum.\")\n",
        "\n",
        "  def bersuara(self):\n",
        "    print(f\"{self.nama} mengeluarkan suara burung.\")\n",
        "\n",
        "#kelas anak 1\n",
        "class Elang(Burung):\n",
        "  def __init__(self,nama,rentang_sayap):\n",
        "    super().__init__(nama)\n",
        "    self.rentang_sayap = rentang_sayap\n",
        "\n",
        "  #override\n",
        "  def terbang(self):\n",
        "    print(f\"{self.nama} terbang tinggi melayang di angkasa.\")\n",
        "\n",
        "  #override\n",
        "  def bersuara(self):\n",
        "    print (f\"{self.nama} berteriak nyaring.\")\n",
        "\n",
        "#Kelas anak 2\n",
        "class Pipit (Burung):\n",
        "  def __init__(self, nama, warna_bulu):\n",
        "    super().__init__(nama)\n",
        "    self.warna_bulu = warna_bulu\n",
        "\n",
        "  #override\n",
        "  def terbang(self):\n",
        "    print(f\"{self.nama} terbang cepat di antaea pepohonan.\")\n",
        "\n",
        "  #override\n",
        "  def bersuara(self):\n",
        "    print(f\"{self.nama} berkicau merdu : Cit cit!\")\n",
        "\n",
        "#Fungsi yang memanfaatkan poliomorfisme\n",
        "def demonstrasi_aksi_burung(daftar_burung):\n",
        "  print(\"\\nAksi Burung:\")\n",
        "  for burung in daftar_burung:\n",
        "    print(f\"== Aksi untuk {burung.nama} --\")\n",
        "\n",
        "    burung.terbang()\n",
        "    burung.bersuara()\n",
        "    print(\"-\" * 15)\n",
        "\n",
        "if __name__ == \"__main__\":\n",
        "  elang_jawa = Elang(\"Elang Jawa\", 1.5)\n",
        "  pipit_gereja = Pipit(\"Pipit Gereja\", \"Coklat\")\n",
        "  burung_aneh = Burung(\"Burung Misterius\")\n",
        "  koleksi_burung = [elang_jawa, pipit_gereja, burung_aneh]\n",
        "  demonstrasi_aksi_burung(koleksi_burung)"
      ],
      "metadata": {
        "colab": {
          "base_uri": "https://localhost:8080/"
        },
        "id": "FsR9fUXCv4UG",
        "outputId": "eff740dc-1d30-41a8-c893-79f4ed7038f4"
      },
      "execution_count": null,
      "outputs": [
        {
          "output_type": "stream",
          "name": "stdout",
          "text": [
            "\n",
            "Aksi Burung:\n",
            "== Aksi untuk Elang Jawa --\n",
            "Elang Jawa terbang tinggi melayang di angkasa.\n",
            "Elang Jawa berteriak nyaring.\n",
            "---------------\n",
            "== Aksi untuk Pipit Gereja --\n",
            "Pipit Gereja terbang cepat di antaea pepohonan.\n",
            "Pipit Gereja berkicau merdu : Cit cit!\n",
            "---------------\n",
            "== Aksi untuk Burung Misterius --\n",
            "Burung Misterius terbang dengan cara umum.\n",
            "Burung Misterius mengeluarkan suara burung.\n",
            "---------------\n"
          ]
        }
      ]
    },
    {
      "cell_type": "markdown",
      "source": [
        "# Praktikum 02: Polimorfisme dengan Duck Typing"
      ],
      "metadata": {
        "id": "uv9TkAaPzJWu"
      }
    },
    {
      "cell_type": "code",
      "source": [
        "class Kucing:\n",
        "  def bersuara (self):\n",
        "    print (\"Kucing: Meow!\")\n",
        "\n",
        "class Anjing:\n",
        "  def bersuara(self):\n",
        "    print(\"Anjing : Guk guk!\")\n",
        "\n",
        "class Bebek:\n",
        "  def bersuara(self):\n",
        "    print (\"Bebek: Kwek kwek!\")\n",
        "\n",
        "class Mobil:\n",
        "  def jalankan(self):\n",
        "    print (\"Mobil : Brummm!\")\n",
        "\n",
        "def buat_suara(objek_yang_bisa_bersuara):\n",
        "  try:\n",
        "    objek_yang_bisa_bersuara.bersuara()\n",
        "  except AttributeError:\n",
        "    print(f\"Objek {type(objek_yang_bisa_bersuara).__name__} tidak bisa bersuara.\")\n",
        "\n",
        "if __name__ == \"__main__\":\n",
        "  kucing1 = Kucing()\n",
        "  anjing1 = Anjing()\n",
        "  bebek1 = Bebek()\n",
        "  mobil1 = Mobil()\n",
        "\n",
        "  daftar_objek = [kucing1,anjing1,bebek1,mobil1]\n",
        "\n",
        "  print (\"Demonstrasi Duck Typing:\")\n",
        "  for item in daftar_objek:\n",
        "    buat_suara(item)\n"
      ],
      "metadata": {
        "id": "E8IrQ1fWy0dH",
        "colab": {
          "base_uri": "https://localhost:8080/"
        },
        "outputId": "05a5b18a-32fe-4d3d-c670-09db8abe79d2"
      },
      "execution_count": null,
      "outputs": [
        {
          "output_type": "stream",
          "name": "stdout",
          "text": [
            "Demonstrasi Duck Typing:\n",
            "Kucing: Meow!\n",
            "Anjing : Guk guk!\n",
            "Bebek: Kwek kwek!\n",
            "Objek Mobil tidak bisa bersuara.\n"
          ]
        }
      ]
    },
    {
      "cell_type": "markdown",
      "source": [
        "# Praktikum 03 : Simulasi Overloading dalam Metode Kelas dengan *args"
      ],
      "metadata": {
        "id": "xpOxJHTi2lMt"
      }
    },
    {
      "cell_type": "code",
      "source": [
        "class KalkulatorSederhana:\n",
        "  def __init__(self,nama=\"Kalkulator\"):\n",
        "    self.nama = nama\n",
        "    print(f\"{self.nama} siap digunakan.\")\n",
        "\n",
        "  def tambah(self, *args):\n",
        "    \"\"\"\n",
        "    Metode ini menjumlahkan semua argumen angka yang diberikan.\n",
        "    Menerima sejumlah argumen posisi menggunakan *args.\n",
        "    \"\"\"\n",
        "    print(f\"\\nMemanggil metode tambah dengan argumen : {args}\")\n",
        "    if not args:\n",
        "      print (\"Tidak ada angka untuk dijumlahkan.\")\n",
        "      return 0\n",
        "\n",
        "    total = 0\n",
        "    valid_input = True\n",
        "    for angka in args:\n",
        "      if isinstance (angka, (int, float)):\n",
        "        total += angka\n",
        "      else:\n",
        "        print (f\"Peringatan : argumen '(angka)' bukan angka dan akan diabaikan.\")\n",
        "        valid_input = False\n",
        "    if valid_input:\n",
        "      print(f\"Hasil penjumlahan: {total}\")\n",
        "    else:\n",
        "      print(f\"Hasil penjumlahan (dengan beberapa input diabaikan) : {total}\")\n",
        "    return total\n",
        "\n",
        "\n",
        "if __name__ == \"__main__\":\n",
        "  calc = KalkulatorSederhana ( \"Calc-01\")\n",
        "  print(\"\\n--- Percobaan Penjumlahan ---\")\n",
        "  calc.tambah(5, 10)\n",
        "  calc.tambah(2,3,5,10)\n",
        "  calc.tambah(100)\n",
        "  calc.tambah()\n",
        "  calc.tambah(1,2, \"tiga\", 4, 5.5)"
      ],
      "metadata": {
        "colab": {
          "base_uri": "https://localhost:8080/"
        },
        "id": "pK9mxiBW2SU1",
        "outputId": "97c13f85-2c8d-468a-8012-3dfc91db4446"
      },
      "execution_count": null,
      "outputs": [
        {
          "output_type": "stream",
          "name": "stdout",
          "text": [
            "Calc-01 siap digunakan.\n",
            "\n",
            "--- Percobaan Penjumlahan ---\n",
            "\n",
            "Memanggil metode tambah dengan argumen : (5, 10)\n",
            "Hasil penjumlahan: 15\n",
            "\n",
            "Memanggil metode tambah dengan argumen : (2, 3, 5, 10)\n",
            "Hasil penjumlahan: 20\n",
            "\n",
            "Memanggil metode tambah dengan argumen : (100,)\n",
            "Hasil penjumlahan: 100\n",
            "\n",
            "Memanggil metode tambah dengan argumen : ()\n",
            "Tidak ada angka untuk dijumlahkan.\n",
            "\n",
            "Memanggil metode tambah dengan argumen : (1, 2, 'tiga', 4, 5.5)\n",
            "Peringatan : argumen '(angka)' bukan angka dan akan diabaikan.\n",
            "Hasil penjumlahan (dengan beberapa input diabaikan) : 12.5\n"
          ]
        }
      ]
    },
    {
      "cell_type": "markdown",
      "source": [
        "# Praktikum 04: Simulasi Overloading dalam Metode Kelas dengan *args dan **kwargs"
      ],
      "metadata": {
        "id": "klhXbl5M5n14"
      }
    },
    {
      "cell_type": "code",
      "source": [
        "class DataProcessor:\n",
        "  def __init__(self,processor_id):\n",
        "    self.processor_id = processor_id\n",
        "    print(f\"Data Processor {self.processor_id} siap.\")\n",
        "\n",
        "  def process (self, *args, **kwargs):\n",
        "    \"\"\"\n",
        "    Metode ini memproses data dengan argumen posisi (*args)\n",
        "    dan kata kunci (**kwargs) yang jumlahnya variabel.\n",
        "    \"\"\"\n",
        "    print(f\"\\n--- {self.processor_id} Memproses Data ---\")\n",
        "\n",
        "    if args:\n",
        "      print(\"Argumen Posisi Diterima:\")\n",
        "      for i, arg in enumerate (args):\n",
        "        print(f\"args [{i}] : {arg} (tipe: {type(arg).__name__})\")\n",
        "    else:\n",
        "      print (\"Tidak ada argumen posisi.\")\n",
        "\n",
        "    if kwargs:\n",
        "      print (\"Argumen Kata Kunci Diterima:\")\n",
        "      for kunci, nilai in kwargs.items():\n",
        "        print(f\"{kunci}:{nilai} (tipe:{type(nilai).__name__})\")\n",
        "      else:\n",
        "        print (\"Tidak ada argumen kata kunci.\")\n",
        "      print (\"------------------------------\")\n",
        "\n",
        "if __name__==\"__main__\":\n",
        "  processor1 = DataProcessor(\"DP-001\")\n",
        "  print (\"\\nPanggilan 1 : Tanpa argumen tambahan\")\n",
        "  processor1.process()\n",
        "\n",
        "  print(\"\\nPanggilan 2 : Hanya argumen posisi\")\n",
        "  processor1.process(100, \"Status OK\", 99.9, False)\n",
        "\n",
        "  print (\"\\nPanggilan 3 : Hanya argumen kata kunci\")\n",
        "  processor1.process(user=\"admin\", level=5, mode=\"verbose\")\n",
        "\n",
        "  print(\"\\nPanggilan 4 : Kombinasi argumen posisi dan kata kunci\")\n",
        "  processor1.process(\"Task-A\", \"Task-B\", status=\"Running\", priority=\"High\", thread_id=54321)\n",
        "\n",
        "  print(\"\\nPanggilan 5 : Argumen posisi kompleks\")\n",
        "  list_ids = [\"A1\", \"B2\", \"C3\"]\n",
        "  dict_params = {\"timeout\":30, \"retry\":3}\n",
        "  processor1.process(list_ids, dict_params, owner=\"system\", enabled=True)\n"
      ],
      "metadata": {
        "id": "8fYZqaqw5fsU",
        "colab": {
          "base_uri": "https://localhost:8080/"
        },
        "outputId": "5690263c-ed19-4e78-fa94-ca1854b524b0"
      },
      "execution_count": 1,
      "outputs": [
        {
          "output_type": "stream",
          "name": "stdout",
          "text": [
            "Data Processor DP-001 siap.\n",
            "\n",
            "Panggilan 1 : Tanpa argumen tambahan\n",
            "\n",
            "--- DP-001 Memproses Data ---\n",
            "Tidak ada argumen posisi.\n",
            "\n",
            "Panggilan 2 : Hanya argumen posisi\n",
            "\n",
            "--- DP-001 Memproses Data ---\n",
            "Argumen Posisi Diterima:\n",
            "args [0] : 100 (tipe: int)\n",
            "args [1] : Status OK (tipe: str)\n",
            "args [2] : 99.9 (tipe: float)\n",
            "args [3] : False (tipe: bool)\n",
            "\n",
            "Panggilan 3 : Hanya argumen kata kunci\n",
            "\n",
            "--- DP-001 Memproses Data ---\n",
            "Tidak ada argumen posisi.\n",
            "Argumen Kata Kunci Diterima:\n",
            "user:admin (tipe:str)\n",
            "level:5 (tipe:int)\n",
            "mode:verbose (tipe:str)\n",
            "Tidak ada argumen kata kunci.\n",
            "------------------------------\n",
            "\n",
            "Panggilan 4 : Kombinasi argumen posisi dan kata kunci\n",
            "\n",
            "--- DP-001 Memproses Data ---\n",
            "Argumen Posisi Diterima:\n",
            "args [0] : Task-A (tipe: str)\n",
            "args [1] : Task-B (tipe: str)\n",
            "Argumen Kata Kunci Diterima:\n",
            "status:Running (tipe:str)\n",
            "priority:High (tipe:str)\n",
            "thread_id:54321 (tipe:int)\n",
            "Tidak ada argumen kata kunci.\n",
            "------------------------------\n",
            "\n",
            "Panggilan 5 : Argumen posisi kompleks\n",
            "\n",
            "--- DP-001 Memproses Data ---\n",
            "Argumen Posisi Diterima:\n",
            "args [0] : ['A1', 'B2', 'C3'] (tipe: list)\n",
            "args [1] : {'timeout': 30, 'retry': 3} (tipe: dict)\n",
            "Argumen Kata Kunci Diterima:\n",
            "owner:system (tipe:str)\n",
            "enabled:True (tipe:bool)\n",
            "Tidak ada argumen kata kunci.\n",
            "------------------------------\n"
          ]
        }
      ]
    },
    {
      "cell_type": "markdown",
      "source": [
        "# Praktikum 5 : Kombinasi Polimorfisme"
      ],
      "metadata": {
        "id": "6JJWRyLSWSnE"
      }
    },
    {
      "cell_type": "code",
      "source": [
        "import math\n",
        "\n",
        "class Bentuk:\n",
        "  def nama_bentuk(self):\n",
        "    return \"Bentuk Generik\"\n",
        "\n",
        "  def hitung_luas(self):\n",
        "    raise NotImplementedError(\"Subclass harus mengimplementasikan metode ini\")\n",
        "\n",
        "class Lingkaran(Bentuk):\n",
        "  def __init__(self, radius):\n",
        "    self.radius = radius\n",
        "\n",
        "  def nama_bentuk(self):\n",
        "    return \"Lingkaran\"\n",
        "\n",
        "  def hitung_luas(self):\n",
        "    return math.pi * (self.radius ** 2)\n",
        "\n",
        "class Persegi(Bentuk):\n",
        "  def __init__(self, sisi):\n",
        "    self.sisi = sisi\n",
        "\n",
        "  def nama_bentuk(self):\n",
        "    return \"Persegi\"\n",
        "\n",
        "  def hitung_luas(self):\n",
        "    return self.sisi * self.sisi\n",
        "\n",
        "class TaplakMeja:\n",
        "  def __init__(self, panjang, lebar):\n",
        "    self.panjang = panjang\n",
        "    self.lebar = lebar\n",
        "\n",
        "  def hitung_luas(self):\n",
        "    return self.panjang * self.lebar\n",
        "\n",
        "  def deskripsi(self):\n",
        "    return f\"Taplak Meja {self.panjang} x {self.lebar}\"\n",
        "\n",
        "#Fungsi Polimorfik\n",
        "def tampilkan_info_luas(objek_dengan_luas):\n",
        "  print (\"-\" * 20)\n",
        "  try:\n",
        "    #mencoba memanggil hitung_luas()\n",
        "    luas = objek_dengan_luas.hitung_luas()\n",
        "    #mencoba mendapatkan nama jika ada\n",
        "    try:\n",
        "      nama = objek_dengan_luas.nama_bentuk()\n",
        "    except AttributeError:\n",
        "      nama = type(objek_dengan_luas).__name__\n",
        "      print (f\"Objek:{nama}\")\n",
        "      print (f\"Luas: (luas:.2f)\")\n",
        "\n",
        "  except AttributeError:\n",
        "    print (f\"Objek {type(objek_dengan_luas).__name__} tidak dapat dihitung luasnya (metode tidak ditemukan).\")\n",
        "  except NotImplementedError:\n",
        "    print (f\"Metode 'hitung_luas'belum diimplementasi untuk {type (objek_dengan_luas).__name__}.\")\n",
        "\n",
        "if __name__==\"__main__\":\n",
        "  lingkaran1 = Lingkaran(7)\n",
        "  persegi1 = Persegi(5)\n",
        "  taplak1 = TaplakMeja(1.5, 0.8)\n",
        "  bentuk_dasar = Bentuk()\n",
        "  string_biasa = \"Ini string\"\n",
        "  daftar_item = [lingkaran1, persegi1, taplak1, bentuk_dasar, string_biasa]\n",
        "\n",
        "  print(\"Menampilkan Info Luas (Polimorfisme Campuran):\")\n",
        "  for item in daftar_item:\n",
        "    tampilkan_info_luas(item)\n"
      ],
      "metadata": {
        "colab": {
          "base_uri": "https://localhost:8080/"
        },
        "id": "KOAC7b-JVf_t",
        "outputId": "9539fb5d-ec52-4a1f-b41e-0c43d0ff0a30"
      },
      "execution_count": 2,
      "outputs": [
        {
          "output_type": "stream",
          "name": "stdout",
          "text": [
            "Menampilkan Info Luas (Polimorfisme Campuran):\n",
            "--------------------\n",
            "--------------------\n",
            "--------------------\n",
            "Objek:TaplakMeja\n",
            "Luas: (luas:.2f)\n",
            "--------------------\n",
            "Metode 'hitung_luas'belum diimplementasi untuk Bentuk.\n",
            "--------------------\n",
            "Objek str tidak dapat dihitung luasnya (metode tidak ditemukan).\n"
          ]
        }
      ]
    },
    {
      "cell_type": "markdown",
      "source": [
        "# Praktikum 6 : Kontrol Perilaku Polimorfik dengan isintance()"
      ],
      "metadata": {
        "id": "Fs28a4fecgC1"
      }
    },
    {
      "cell_type": "code",
      "source": [
        "class Burung:\n",
        "  def __init__(self, nama):\n",
        "    self.nama = nama\n",
        "  def terbang(self):\n",
        "    print (f\"{self.nama} terbang dengan cara umum.\")\n",
        "  def bersuara(self):\n",
        "    print(f\"{self.nama} mengeluarkan suara burung.\")\n",
        "\n",
        "class Elang(Burung):\n",
        "  def __init__(self, nama, rentang_sayap):\n",
        "    super().__init__(nama)\n",
        "    self.rentang_sayap = rentang_sayap\n",
        "\n",
        "  def terbang(self):\n",
        "    print (f\"{self.nama} terbang tinggi melayang di angkasa.\")\n",
        "\n",
        "  def bersuara(self):\n",
        "    print(f\"{self.nama} berteriak nyaring.\")\n",
        "  #metode khusus elang\n",
        "  def berburu(self):\n",
        "    print(f\"{self.nama} sedang mencari mangsa dari ketinggian.\")\n",
        "class Pipit(Burung):\n",
        "  def __init__(self,nama,warna_bulu):\n",
        "    super().__init__(nama)\n",
        "    self.warna_bulu = warna_bulu\n",
        "  def terbang(self):\n",
        "    print(f\"{self.nama}terbang cepat di antara pepohonan.\")\n",
        "  def bersuara(self):\n",
        "    print(f\"{self.nama} berkicau merdu : Cit cit!\")\n",
        "  def membangun_sarang(self):\n",
        "    print(f\"{self.nama} sedang mengumpulkan ranting untuk sarang.\")\n",
        "\n",
        "#fungsi yang memanfaatkan polimorfisme dan isintance()\n",
        "def interaksi_dengan_burung(burung):\n",
        "  print(f\"\\n--- Berinteraksi dengan {type(burung).__name__}: {getattr (burung, 'nama', 'Objek tidak dikenal')}---\")\n",
        "\n",
        "  #cek apakah objek adalah instance dari burung atau turunannya\n",
        "  if isinstance(burung, Burung):\n",
        "    #perilaku polimorfik dasar\n",
        "    burung.terbang()\n",
        "    burung.bersuara()\n",
        "\n",
        "    #menambahkan perilaku spesifik berdasarkan tipe turunan\n",
        "    if isinstance (burung, Elang):\n",
        "      print (\"-> Ini adalah Elang!\")\n",
        "      burung.berburu()\n",
        "    elif isinstance (burung, Pipit):\n",
        "      print(\"-> ini adalah Pipit\")\n",
        "      burung.membangun_sarang()\n",
        "    else:\n",
        "      print(\"-> Ini adalah burung jenis umum (bukan Elang/Pipit).\")\n",
        "  else:\n",
        "    #jika objek bukan instance burung sama sekali\n",
        "    print (\"-> Objek ini bukan termasuk jenis BUrung.\")\n",
        "    print (\"-\" * 25)\n",
        "\n",
        "if __name__ == \"__main__\":\n",
        "  elang_sumatra = Elang(\"Elang Sumatra\", 1.8)\n",
        "  pipit_rumah = Pipit(\"Pipit Rumah\", \"Abu-abu\")\n",
        "  merak = Burung(\"Merak\")\n",
        "  kucing_tetangga = \"Meong\"\n",
        "  koleksi_makhluk = [elang_sumatra, pipit_rumah, merak, kucing_tetangga]\n",
        "  for makhluk in koleksi_makhluk:\n",
        "    interaksi_dengan_burung(makhluk)\n",
        "\n"
      ],
      "metadata": {
        "colab": {
          "base_uri": "https://localhost:8080/"
        },
        "id": "LNzatovGcXsv",
        "outputId": "ba236887-8a83-4286-d9b1-38def1dd1535"
      },
      "execution_count": 7,
      "outputs": [
        {
          "output_type": "stream",
          "name": "stdout",
          "text": [
            "\n",
            "--- Berinteraksi dengan Elang: Elang Sumatra---\n",
            "Elang Sumatra terbang tinggi melayang di angkasa.\n",
            "Elang Sumatra berteriak nyaring.\n",
            "-> Ini adalah Elang!\n",
            "Elang Sumatra sedang mencari mangsa dari ketinggian.\n",
            "\n",
            "--- Berinteraksi dengan Pipit: Pipit Rumah---\n",
            "Pipit Rumahterbang cepat di antara pepohonan.\n",
            "Pipit Rumah berkicau merdu : Cit cit!\n",
            "-> ini adalah Pipit\n",
            "Pipit Rumah sedang mengumpulkan ranting untuk sarang.\n",
            "\n",
            "--- Berinteraksi dengan Burung: Merak---\n",
            "Merak terbang dengan cara umum.\n",
            "Merak mengeluarkan suara burung.\n",
            "-> Ini adalah burung jenis umum (bukan Elang/Pipit).\n",
            "\n",
            "--- Berinteraksi dengan str: Objek tidak dikenal---\n",
            "-> Objek ini bukan termasuk jenis BUrung.\n",
            "-------------------------\n"
          ]
        }
      ]
    },
    {
      "cell_type": "markdown",
      "source": [
        "# Penugasan"
      ],
      "metadata": {
        "id": "-63-jmIAp_K8"
      }
    },
    {
      "cell_type": "code",
      "source": [
        "class Komputer:\n",
        "    def __init__(self, merk, processor, ram_gb):\n",
        "        self.merk = merk\n",
        "        self.processor = processor\n",
        "        self.ram_gb = ram_gb\n",
        "\n",
        "    def info_spesifikasi(self):\n",
        "        print(f\"Merk: {self.merk}\")\n",
        "        print(f\"Processor: {self.processor}\")\n",
        "        print(f\"RAM: {self.ram_gb} GB\")\n",
        "\n",
        "    def jalankan_aplikasi(self, nama_aplikasi):\n",
        "        print(f\"{self.merk} menjalankan aplikasi: {nama_aplikasi}...\")\n",
        "\n",
        "    def upgrade_ram(self, tambahan_gb, tipe_ram=\"DDR4\"):\n",
        "        self.ram_gb += tambahan_gb\n",
        "        print(f\"RAM {self.merk} diupgrade sebesar {tambahan_gb} GB (Tipe: {tipe_ram}). Total RAM sekarang: {self.ram_gb} GB.\")\n",
        "\n",
        "\n",
        "class Laptop(Komputer):\n",
        "    def __init__(self, merk, processor, ram_gb, ukuran_layar_inch, berat_kg):\n",
        "        super().__init__(merk, processor, ram_gb)\n",
        "        self.ukuran_layar_inch = ukuran_layar_inch\n",
        "        self.berat_kg = berat_kg\n",
        "\n",
        "    def info_spesifikasi(self):\n",
        "        super().info_spesifikasi()\n",
        "        print(f\"Ukuran Layar: {self.ukuran_layar_inch} inch\")\n",
        "        print(f\"Berat: {self.berat_kg} Kg\")\n",
        "\n",
        "\n",
        "class Desktop(Komputer):\n",
        "    def __init__(self, merk, processor, ram_gb, jenis_casing, monitor_external):\n",
        "        super().__init__(merk, processor, ram_gb)\n",
        "        self.jenis_casing = jenis_casing\n",
        "        self.monitor_external = monitor_external\n",
        "\n",
        "    def info_spesifikasi(self):\n",
        "        super().info_spesifikasi()\n",
        "        print(f\"Jenis Casing: {self.jenis_casing}\")\n",
        "        print(f\"Monitor External: {'Ya' if self.monitor_external else 'Tidak'}\")\n",
        "\n",
        "\n",
        "def cetak_semua_spesifikasi(daftar_komputer):\n",
        "    for komputer in daftar_komputer:\n",
        "        komputer.info_spesifikasi()\n",
        "        print(\"-\")\n",
        "\n",
        "\n",
        "if __name__ == \"__main__\":\n",
        "    laptop1 = Laptop(\"Asus\", \"Intel i7-10850H\", 8, 14.0, 1.5)\n",
        "    desktop1 = Desktop(\"Dell\", \"AMD Ryzen 5-5600g\", 16, \"Tower\", True)\n",
        "\n",
        "    daftar_komputer = [laptop1, desktop1]\n",
        "\n",
        "    print(\"Spesifikasi Semua Komputer:\")\n",
        "    cetak_semua_spesifikasi(daftar_komputer)\n",
        "\n",
        "    print(\"\\nSimulasi Overloading:\")\n",
        "    laptop1.upgrade_ram(4)\n",
        "    desktop1.upgrade_ram(8, \"DDR5\")\n"
      ],
      "metadata": {
        "colab": {
          "base_uri": "https://localhost:8080/"
        },
        "id": "jbmq_8lwknY2",
        "outputId": "0a95416f-4d7d-42a9-ffa0-746152a00e06"
      },
      "execution_count": 10,
      "outputs": [
        {
          "output_type": "stream",
          "name": "stdout",
          "text": [
            "Spesifikasi Semua Komputer:\n",
            "Merk: Asus\n",
            "Processor: Intel i7-10850H\n",
            "RAM: 8 GB\n",
            "Ukuran Layar: 14.0 inch\n",
            "Berat: 1.5 Kg\n",
            "-\n",
            "Merk: Dell\n",
            "Processor: AMD Ryzen 5-5600g\n",
            "RAM: 16 GB\n",
            "Jenis Casing: Tower\n",
            "Monitor External: Ya\n",
            "-\n",
            "\n",
            "Simulasi Overloading:\n",
            "RAM Asus diupgrade sebesar 4 GB (Tipe: DDR4). Total RAM sekarang: 12 GB.\n",
            "RAM Dell diupgrade sebesar 8 GB (Tipe: DDR5). Total RAM sekarang: 24 GB.\n"
          ]
        }
      ]
    },
    {
      "cell_type": "code",
      "source": [],
      "metadata": {
        "id": "pqXqles61paj"
      },
      "execution_count": null,
      "outputs": []
    }
  ]
}