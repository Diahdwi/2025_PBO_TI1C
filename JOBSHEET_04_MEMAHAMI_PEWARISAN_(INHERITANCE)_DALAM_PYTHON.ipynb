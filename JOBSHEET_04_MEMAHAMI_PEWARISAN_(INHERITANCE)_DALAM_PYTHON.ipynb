{
  "nbformat": 4,
  "nbformat_minor": 0,
  "metadata": {
    "colab": {
      "provenance": [],
      "authorship_tag": "ABX9TyOeDMKtKlkHDFNsLAqItWdy",
      "include_colab_link": true
    },
    "kernelspec": {
      "name": "python3",
      "display_name": "Python 3"
    },
    "language_info": {
      "name": "python"
    }
  },
  "cells": [
    {
      "cell_type": "markdown",
      "metadata": {
        "id": "view-in-github",
        "colab_type": "text"
      },
      "source": [
        "<a href=\"https://colab.research.google.com/github/Diahdwi/2025_PBO_TI1C/blob/main/JOBSHEET_04_MEMAHAMI_PEWARISAN_(INHERITANCE)_DALAM_PYTHON.ipynb\" target=\"_parent\"><img src=\"https://colab.research.google.com/assets/colab-badge.svg\" alt=\"Open In Colab\"/></a>"
      ]
    },
    {
      "cell_type": "markdown",
      "source": [
        "# Memahami Pewarisan (Inheritance) dalam Python"
      ],
      "metadata": {
        "id": "Xy02z9t7f_YU"
      }
    },
    {
      "cell_type": "markdown",
      "source": [
        "# Praktikum 01: Inheritance Dasar"
      ],
      "metadata": {
        "id": "Dz7n9k-kgTSs"
      }
    },
    {
      "cell_type": "code",
      "execution_count": 1,
      "metadata": {
        "colab": {
          "base_uri": "https://localhost:8080/"
        },
        "id": "eXp3iD-SftXx",
        "outputId": "94d3e378-7c55-4875-d097-3b4249e8593a"
      },
      "outputs": [
        {
          "output_type": "stream",
          "name": "stdout",
          "text": [
            "Ini adalah mobil Tesla Model S berwarna Merah.\n",
            "Mesin kendaraan Tesla Model S dinyalakan.\n",
            "Merk mobil: Tesla Model S\n"
          ]
        }
      ],
      "source": [
        "#Kelas Induk\n",
        "class Kendaraan:\n",
        "  def __init__(self, merk):\n",
        "    self.merk=merk\n",
        "  def mulai_mesin(self):\n",
        "    print(f\"Mesin kendaraan {self.merk} dinyalakan.\")\n",
        "\n",
        "#Kelas Anak (mewarisi dari Kendaraan)\n",
        "class Mobil(Kendaraan):\n",
        "  def __init__(self, merk, warna):\n",
        "    self.merk=merk\n",
        "    self.warna=warna\n",
        "  def info_mobil(self):\n",
        "    print(f\"Ini adalah mobil {self.merk} berwarna {self.warna}.\")\n",
        "\n",
        "#---Kode Utama---\n",
        "if __name__==\"__main__\":\n",
        "  mobil_tesla = Mobil (\"Tesla Model S\", \"Merah\")\n",
        "  #memanggil metode dari kelas anak\n",
        "  mobil_tesla.info_mobil()\n",
        "  #memanggil metoder yang diwarisi\n",
        "  mobil_tesla.mulai_mesin()\n",
        "  #mengakses atribut yang diwarisi\n",
        "  print(f\"Merk mobil: {mobil_tesla.merk}\")\n"
      ]
    },
    {
      "cell_type": "markdown",
      "source": [
        "# Praktikum 02:Menggunakan super() dalam konstruktor"
      ],
      "metadata": {
        "id": "EXTqgpodf-Z9"
      }
    },
    {
      "cell_type": "code",
      "source": [
        "#Kelas induk\n",
        "class Person:\n",
        "  def __init__(self, nama, usia):\n",
        "    print(f\"Memanggil __init__ Person untuk '{nama}')\")\n",
        "    self.nama=nama\n",
        "    self.usia=usia\n",
        "  def perkenalkan_diri(self):\n",
        "    print (f\"Halo, namasaya {self.nama}, usia saya {self.usia} tahun.\")\n",
        "#Kelas anak\n",
        "class Student (Person):\n",
        "  def __init__(self, nama, usia, student_id, jurusan):\n",
        "    print(f\"(Memangil __init__Student untuk '{nama}')\")\n",
        "    super().__init__(nama, usia)\n",
        "\n",
        "    #menambahkan atribut khusus student\n",
        "    self.student_id=student_id\n",
        "    self.jurusan=jurusan\n",
        "    print(f\"(Inisialisasi atribut Student selesai untuk '{nama}')\")\n",
        "\n",
        "  def info_akademik(self):\n",
        "    print(f\"ID Mahasiswa: {self.student_id}\")\n",
        "    print (f\"Jurusan:{self.jurusan}\")\n",
        "\n",
        "  #Override perkenalan_diri\n",
        "  def perkenalkan_diri(self):\n",
        "    super().perkenalkan_diri()\n",
        "    print(f\"Saya adalah mahasiswa dengan ID {self.student_id}, jurusan {self.jurusan}.\")\n",
        "\n",
        "#kode utama\n",
        "if __name__==\"__main__\":\n",
        "  #membuat objek person\n",
        "  dosen = Person (\"Pak Anton\", 45)\n",
        "  print(\"-\" * 20)\n",
        "  dosen.perkenalkan_diri()\n",
        "  print(\"\\n\"+\"=\" * 30 + \"\\n\")\n",
        "\n",
        "  #membuat objek student\n",
        "  mahasiswa = Student(\"Dewi\", 20, \"MHS001\", \"Teknik Komputer\")\n",
        "  print(\"-\" * 20)\n",
        "  mahasiswa.perkenalkan_diri()\n",
        "  print (\"-\" * 20)\n",
        "  mahasiswa.info_akademik()\n",
        "\n",
        "  #cek atribut yang diwarisi\n",
        "  print(f\"\\nUsia mahasiswa {mahasiswa.nama}: {mahasiswa.usia}\")"
      ],
      "metadata": {
        "colab": {
          "base_uri": "https://localhost:8080/"
        },
        "id": "RuSJh7x9iWDc",
        "outputId": "7f85bff5-3485-4af9-858e-74c166796811"
      },
      "execution_count": 2,
      "outputs": [
        {
          "output_type": "stream",
          "name": "stdout",
          "text": [
            "Memanggil __init__ Person untuk 'Pak Anton')\n",
            "--------------------\n",
            "Halo, namasaya Pak Anton, usia saya 45 tahun.\n",
            "\n",
            "==============================\n",
            "\n",
            "(Memangil __init__Student untuk 'Dewi')\n",
            "Memanggil __init__ Person untuk 'Dewi')\n",
            "(Inisialisasi atribut Student selesai untuk 'Dewi')\n",
            "--------------------\n",
            "Halo, namasaya Dewi, usia saya 20 tahun.\n",
            "Saya adalah mahasiswa dengan ID MHS001, jurusan Teknik Komputer.\n",
            "--------------------\n",
            "ID Mahasiswa: MHS001\n",
            "Jurusan:Teknik Komputer\n",
            "\n",
            "Usia mahasiswa Dewi: 20\n"
          ]
        }
      ]
    },
    {
      "cell_type": "markdown",
      "source": [
        "# Praktikum 03 : Method Overriding dan super"
      ],
      "metadata": {
        "id": "KM03e8w2mBM7"
      }
    },
    {
      "cell_type": "code",
      "source": [
        "#Kelas Induk\n",
        "class Hewan:\n",
        "  def __init__(self,nama):\n",
        "    self.nama=nama\n",
        "\n",
        "  def bersuara(self):\n",
        "    print (f\"{self.nama} mengeluarkan suara generik.\")\n",
        "\n",
        "  def tampilkan_info(self):\n",
        "    print(f\"Ini adalah hewan bernama {self.nama}.\")\n",
        "\n",
        "#kelas anak\n",
        "class Kucing(Hewan):\n",
        "  def __init__(self, nama, ras):\n",
        "    super().__init__(nama)\n",
        "    self.ras=ras\n",
        "\n",
        "  #method overriding untuk bersuara\n",
        "  def bersuara(self):\n",
        "    print(f\"{self.nama} (Kucing) mengeong: Meow!\")\n",
        "\n",
        "  #method overriding untuk tampilkan_info\n",
        "  def tampilkan_info(self):\n",
        "    super().tampilkan_info()\n",
        "    print (f\"Ini adalah kucing ras {self.ras}.\")\n",
        "\n",
        "#kode utama\n",
        "if __name__== \"__main__\":\n",
        "  hewan_umum=Hewan(\"Makhluk\")\n",
        "  kucing_persia = Kucing (\"Puspus\", \"Persia\")\n",
        "\n",
        "  print(\"Info Hewan Umum:\")\n",
        "  hewan_umum.tampilkan_info()\n",
        "  hewan_umum.bersuara()\n",
        "  print (\"-\" *20)\n",
        "\n",
        "  print(\"Info Kucing Persia:\")\n",
        "  kucing_persia.tampilkan_info()\n",
        "  kucing_persia.bersuara()"
      ],
      "metadata": {
        "colab": {
          "base_uri": "https://localhost:8080/"
        },
        "id": "4GfaI0MKl3x7",
        "outputId": "5a1b75d1-87cb-4be3-c530-3581e2c40cfa"
      },
      "execution_count": 3,
      "outputs": [
        {
          "output_type": "stream",
          "name": "stdout",
          "text": [
            "Info Hewan Umum:\n",
            "Ini adalah hewan bernama Makhluk.\n",
            "Makhluk mengeluarkan suara generik.\n",
            "--------------------\n",
            "Info Kucing Persia:\n",
            "Ini adalah hewan bernama Puspus.\n",
            "Ini adalah kucing ras Persia.\n",
            "Puspus (Kucing) mengeong: Meow!\n"
          ]
        }
      ]
    },
    {
      "cell_type": "markdown",
      "source": [
        "# Praktikum 04 : Multi-level Inheritance (Pewarisan Bertingkat)"
      ],
      "metadata": {
        "id": "lI361eKDpU-2"
      }
    },
    {
      "cell_type": "code",
      "source": [
        "#Kelas indul level 1\n",
        "class Organisme:\n",
        "  def __init__(self, nama):\n",
        "    self.nama = nama\n",
        "    print (f\"Organisme '{self.nama}' diciptakan.\")\n",
        "\n",
        "  def bernapas(self):\n",
        "    print (f\"{self.nama} sedang bernapas.\")\n",
        "\n",
        "#kelas anak level 1\n",
        "class Hewan(Organisme):\n",
        "  def __init__(self, nama, jenis_makanan):\n",
        "    super().__init__(nama)\n",
        "    self.jenis_makanan = jenis_makanan\n",
        "    print(f\"Hewan '{self.nama}' adalah {self.jenis_makanan}.\")\n",
        "\n",
        "  def bergerak(self):\n",
        "    print (f\"{self.nama} sedang bergerak\")\n",
        "\n",
        "#kelas anak level 2\n",
        "class Mamalia (Hewan):\n",
        "  def __init__(self, nama, jenis_makanan, jumlah_kaki):\n",
        "    super().__init__(nama,jenis_makanan)\n",
        "    self.jumlah_kaki = jumlah_kaki\n",
        "    print (f\"Mamalia '{self.nama}' memiliki {self.jumlah_kaki} kaki.\")\n",
        "\n",
        "  def menyusui(self):\n",
        "    print (f\"{self.nama} sedang menyusui.\")\n",
        "\n",
        "\n",
        "#kode utama\n",
        "if __name__==\"__main__\":\n",
        "  kucing = Mamalia(\"Kucing Persia\", \"Karnivora\", 4)\n",
        "  print (\"-\" * 20)\n",
        "\n",
        "  #memanggil metode dari kelas mamalia\n",
        "  kucing.menyusui()\n",
        "\n",
        "  #memanggil metode yang diwarisi kelas hewan\n",
        "  kucing.bergerak()\n",
        "  print(f\"Jenis makanan: {kucing.jenis_makanan}\")\n",
        "\n",
        "  #memanggil metode yang diwarisi dari kelas organisme\n",
        "  kucing.bernapas()\n",
        "  print(f\"Nama organisme : {kucing.nama}\")"
      ],
      "metadata": {
        "colab": {
          "base_uri": "https://localhost:8080/"
        },
        "id": "qyMe9fQDpFvo",
        "outputId": "8f9ff998-6573-4ad9-9174-8a2019125e3b"
      },
      "execution_count": 4,
      "outputs": [
        {
          "output_type": "stream",
          "name": "stdout",
          "text": [
            "Organisme 'Kucing Persia' diciptakan.\n",
            "Hewan 'Kucing Persia' adalah Karnivora.\n",
            "Mamalia 'Kucing Persia' memiliki 4 kaki.\n",
            "--------------------\n",
            "Kucing Persia sedang menyusui.\n",
            "Kucing Persia sedang bergerak\n",
            "Jenis makanan: Karnivora\n",
            "Kucing Persia sedang bernapas.\n",
            "Nama organisme : Kucing Persia\n"
          ]
        }
      ]
    },
    {
      "cell_type": "markdown",
      "source": [
        "# Praktikum 05: Hierarchical Inheritance"
      ],
      "metadata": {
        "id": "cvxnSqXguDT-"
      }
    },
    {
      "cell_type": "code",
      "source": [
        "!apt-get install -y locales\n",
        "!locale-gen id_ID.UTF-8\n",
        "!update-locale"
      ],
      "metadata": {
        "colab": {
          "base_uri": "https://localhost:8080/"
        },
        "id": "7pacHyQ-4579",
        "outputId": "7e3e7e81-a83d-45b5-8670-f85e36e93ed0"
      },
      "execution_count": 5,
      "outputs": [
        {
          "output_type": "stream",
          "name": "stdout",
          "text": [
            "Reading package lists... Done\n",
            "Building dependency tree... Done\n",
            "Reading state information... Done\n",
            "locales is already the newest version (2.35-0ubuntu3.9).\n",
            "0 upgraded, 0 newly installed, 0 to remove and 34 not upgraded.\n",
            "Generating locales (this might take a while)...\n",
            "  id_ID.UTF-8... done\n",
            "Generation complete.\n"
          ]
        }
      ]
    },
    {
      "cell_type": "code",
      "source": [
        "import locale\n",
        "try:\n",
        "  locale.setlocale(locale.LC_ALL, 'id_ID.UTF-8')\n",
        "except locale.Error:\n",
        "  try:\n",
        "    locale.setlocale(locale.LC_ALL, 'id_ID')\n",
        "  except locale.Error:\n",
        "    print(\"Locale 'id_ID.UTF-8' dan 'id_ID' tidak tersedia. Menggunakan locale default\")\n",
        "\n",
        "def format_rupiah(angka):\n",
        "  return locale.currency(angka, grouping=True, symbol='Rp ')\n",
        "class Pegawai:\n",
        "  def __init__(self, nama, id_pegawai, gaji_pokok):\n",
        "    self.nama = nama\n",
        "    self.id_pegawai = id_pegawai\n",
        "    self.gaji_pokok = gaji_pokok\n",
        "  def hitung_gaji(self):\n",
        "    return self.gaji_pokok\n",
        "  def tampilkan_info(self):\n",
        "    print (f\"ID: {self.id_pegawai}, Nama: {self.nama}\")\n",
        "    print (f\"Gaji Pokok : {format_rupiah(self.gaji_pokok)}\")\n",
        "\n",
        "class Manager(Pegawai):\n",
        "  def __init__ (self, nama, id_pegawai, gaji_pokok, tunjangan_jabatan):\n",
        "    super().__init__(nama, id_pegawai, gaji_pokok)\n",
        "    self.tunjangan_jabatan = tunjangan_jabatan\n",
        "\n",
        "  def hitung_gaji(self):\n",
        "    return super().hitung_gaji() + self.tunjangan_jabatan\n",
        "\n",
        "  def tampilkan_info(self):\n",
        "    print (\"--- Info Manager --\")\n",
        "    super().tampilkan_info()\n",
        "    print(f\"Tunjangan Jabatan:{format_rupiah(self.tunjangan_jabatan)}\")\n",
        "    print (f\"Total Gaji : {format_rupiah(self.hitung_gaji())}\")\n",
        "\n",
        "class StafTeknis(Pegawai):\n",
        "  def __init__(self, nama, id_pegawai, gaji_pokok, keahlian, bonus_keahlian):\n",
        "    super().__init__(nama, id_pegawai, gaji_pokok)\n",
        "    self.keahlian =  keahlian\n",
        "    self.bonus_keahlian = bonus_keahlian\n",
        "\n",
        "  def hitung_gaji(self):\n",
        "    return super().hitung_gaji() + self.bonus_keahlian\n",
        "\n",
        "  def tampilkan_info(self):\n",
        "    print (\"--- Info Staff Teknis ---\")\n",
        "    super().tampilkan_info()\n",
        "    print(f\"Keahlian: {self.keahlian}\")\n",
        "    print (f\"Bonus Keahlian : {format_rupiah(self.bonus_keahlian)}\")\n",
        "    print (f\"Total Gaji: {format_rupiah(self.hitung_gaji())}\")\n",
        "\n",
        "if __name__ == \"__main__\":\n",
        "  manager1 = Manager(\"Budi Santoso\", \"M001\", 10000000, 5000000)\n",
        "  staf1 = StafTeknis (\"Citra Lestari\", \"S001\", 7000000, \"Python Programming\", 1500000)\n",
        "  pegawai_baru = Pegawai(\"Rian\", \"P005\", 5000000)\n",
        "\n",
        "  print(\"Menampilkan Informasi Pegawai:\")\n",
        "  manager1.tampilkan_info()\n",
        "  print (\"-\" * 30)\n",
        "  staf1.tampilkan_info()\n",
        "  print (\"-\" * 30)\n",
        "\n",
        "  print(\"--- Info Pegawai Baru ---\")\n",
        "  pegawai_baru.tampilkan_info()\n",
        "  print (f\"Total Gaji: {format_rupiah(pegawai_baru.hitung_gaji())}\")\n",
        "  print (\"-\" * 30)"
      ],
      "metadata": {
        "colab": {
          "base_uri": "https://localhost:8080/"
        },
        "id": "d4nq4qZKXszZ",
        "outputId": "5a1cc64a-2fbe-472e-8132-4b870ff3cfe7"
      },
      "execution_count": 12,
      "outputs": [
        {
          "output_type": "stream",
          "name": "stdout",
          "text": [
            "Menampilkan Informasi Pegawai:\n",
            "--- Info Manager --\n",
            "ID: M001, Nama: Budi Santoso\n",
            "Gaji Pokok : Rp10.000.000,00\n",
            "Tunjangan Jabatan:Rp5.000.000,00\n",
            "Total Gaji : Rp15.000.000,00\n",
            "------------------------------\n",
            "--- Info Staff Teknis ---\n",
            "ID: S001, Nama: Citra Lestari\n",
            "Gaji Pokok : Rp7.000.000,00\n",
            "Keahlian: Python Programming\n",
            "Bonus Keahlian : Rp1.500.000,00\n",
            "Total Gaji: Rp8.500.000,00\n",
            "------------------------------\n",
            "--- Info Pegawai Baru ---\n",
            "ID: P005, Nama: Rian\n",
            "Gaji Pokok : Rp5.000.000,00\n",
            "Total Gaji: Rp5.000.000,00\n",
            "------------------------------\n"
          ]
        }
      ]
    },
    {
      "cell_type": "markdown",
      "source": [
        "# Praktikum 06 : Memeriksa Tipe Instance dengan instance()"
      ],
      "metadata": {
        "id": "k0UfBgJqglMW"
      }
    },
    {
      "cell_type": "code",
      "source": [
        "class BentukGeometri:\n",
        "  def __init__(self, nama_bentuk):\n",
        "    self.nama = nama_bentuk\n",
        "  def tampilkan_nama(self):\n",
        "    print (f\"Ini adalah bentuk : {self.nama}\")\n",
        "  def hitung_luas(self):\n",
        "    print (f\"Luas {self.nama} tidak dapat dihitung (generik).\")\n",
        "\n",
        "class PersegiPanjang (BentukGeometri):\n",
        "  def __init__(self, panjang, lebar):\n",
        "    super().__init__(\"Persegi Panjang\")\n",
        "    self.panjang = panjang\n",
        "    self.lebar = lebar\n",
        "  def hitung_luas(self):\n",
        "    luas = self.panjang * self.lebar\n",
        "    print (f\"Luas {self.nama} : {luas}\")\n",
        "\n",
        "class Segitiga(BentukGeometri):\n",
        "  def __init__(self, alas, tinggi):\n",
        "    super().__init__(\"Segitiga\")\n",
        "    self.alas = alas\n",
        "    self.tinggi = tinggi\n",
        "  def hitung_luas(self):\n",
        "    luas = 0.5 * self.alas * self.tinggi\n",
        "    print (f\"Luas {self.nama}: {luas}\")\n",
        "\n",
        "def proses_bentuk(bentuk):\n",
        "  print (f\"\\nMemproses objek : {type(bentuk)}\")\n",
        "\n",
        "  if isinstance (bentuk, BentukGeometri) :\n",
        "    bentuk.tampilkan_nama()\n",
        "    print(\"Objek ini adalah instance dari BentukGeometri (atau turunannya).\")\n",
        "\n",
        "    if isinstance(bentuk, PersegiPanjang):\n",
        "      print(\"-> Objek ini juga instance dari PersegiPanjang.\")\n",
        "    elif isinstance (bentuk, Segitiga):\n",
        "      print (\"-> Objek ini juga instance dari Segitiga.\")\n",
        "  else:\n",
        "    print(\"Objek ini BUKAN instance dari BentukGeometri.\")\n",
        "\n",
        "  if isinstance(bentuk, str):\n",
        "    print(\"Objek ini adalah string.\")\n",
        "\n",
        "if __name__ == \"__main__\":\n",
        "  pp = PersegiPanjang (4, 3)\n",
        "  seg = Segitiga(5,2)\n",
        "  bg = BentukGeometri (\"Lingkaran\")\n",
        "  teks = \"Ini string\"\n",
        "\n",
        "  daftar_objek = [pp, seg, bg, teks]\n",
        "\n",
        "  for obj in daftar_objek:\n",
        "    proses_bentuk(obj)"
      ],
      "metadata": {
        "colab": {
          "base_uri": "https://localhost:8080/"
        },
        "id": "jgLlu1GXengp",
        "outputId": "26d0fb48-cf6e-44ee-95a3-a0e91387ac09"
      },
      "execution_count": 19,
      "outputs": [
        {
          "output_type": "stream",
          "name": "stdout",
          "text": [
            "\n",
            "Memproses objek : <class '__main__.PersegiPanjang'>\n",
            "Ini adalah bentuk : Persegi Panjang\n",
            "Objek ini adalah instance dari BentukGeometri (atau turunannya).\n",
            "-> Objek ini juga instance dari PersegiPanjang.\n",
            "\n",
            "Memproses objek : <class '__main__.Segitiga'>\n",
            "Ini adalah bentuk : Segitiga\n",
            "Objek ini adalah instance dari BentukGeometri (atau turunannya).\n",
            "-> Objek ini juga instance dari Segitiga.\n",
            "\n",
            "Memproses objek : <class '__main__.BentukGeometri'>\n",
            "Ini adalah bentuk : Lingkaran\n",
            "Objek ini adalah instance dari BentukGeometri (atau turunannya).\n",
            "\n",
            "Memproses objek : <class 'str'>\n",
            "Objek ini BUKAN instance dari BentukGeometri.\n",
            "Objek ini adalah string.\n"
          ]
        }
      ]
    },
    {
      "cell_type": "markdown",
      "source": [
        "# PENUGASAN"
      ],
      "metadata": {
        "id": "VFsw1nJRlaMz"
      }
    },
    {
      "cell_type": "code",
      "source": [
        "# Kelas Induk\n",
        "class Mahasiswa:\n",
        "    def __init__(self, nama, nim, ipk):\n",
        "        self.nama = nama\n",
        "        self.nim = nim\n",
        "        self.ipk = ipk\n",
        "\n",
        "    def tampilkan_info(self):\n",
        "        print(f\"Nama: {self.nama}\")\n",
        "        print(f\"NIM: {self.nim}\")\n",
        "        print(f\"IPK: {self.ipk}\")\n",
        "\n",
        "    def hitung_predikat(self):\n",
        "        if self.ipk >= 3.5:\n",
        "            return \"Dengan Pujian\"\n",
        "        elif self.ipk >= 3.0:\n",
        "            return \"Sangat Memuaskan\"\n",
        "        elif self.ipk >= 2.5:\n",
        "            return \"Memuaskan\"\n",
        "        else:\n",
        "            return \"Cukup\"\n",
        "\n",
        "# Kelas Anak 1: Mahasiswa Sarjana\n",
        "class MahasiswaSarjana(Mahasiswa):\n",
        "    def __init__(self, nama, nim, ipk, semester, sks_lulus):\n",
        "        super().__init__(nama, nim, ipk)\n",
        "        self.semester = semester\n",
        "        self.sks_lulus = sks_lulus\n",
        "\n",
        "    def tampilkan_info(self):\n",
        "        super().tampilkan_info()\n",
        "        print(f\"Semester: {self.semester}\")\n",
        "        print(f\"SKS Lulus: {self.sks_lulus}\")\n",
        "\n",
        "# Kelas Anak 2: Mahasiswa Magister\n",
        "class MahasiswaMagister(Mahasiswa):\n",
        "    def __init__(self, nama, nim, ipk, judul_tesis, nama_pembimbing):\n",
        "        super().__init__(nama, nim, ipk)\n",
        "        self.judul_tesis = judul_tesis\n",
        "        self.nama_pembimbing = nama_pembimbing\n",
        "\n",
        "    def tampilkan_info(self):\n",
        "        super().tampilkan_info()\n",
        "        print(f\"Judul Tesis: {self.judul_tesis}\")\n",
        "        print(f\"Pembimbing: {self.nama_pembimbing}\")\n",
        "\n",
        "    # (Opsional override predikat khusus)\n",
        "    def hitung_predikat(self):\n",
        "        if self.ipk >= 3.75:\n",
        "            return \"Dengan Pujian Khusus\"\n",
        "        elif self.ipk >= 3.5:\n",
        "            return \"Dengan Pujian\"\n",
        "        elif self.ipk >= 3.0:\n",
        "            return \"Memuaskan\"\n",
        "        else:\n",
        "            return \"Cukup\"\n"
      ],
      "metadata": {
        "id": "uMWnDkxXhsmt"
      },
      "execution_count": 22,
      "outputs": []
    },
    {
      "cell_type": "code",
      "source": [
        "m1 = MahasiswaSarjana(\"Diah\", \"43324207\", 3.8, 2, 27)\n",
        "m2 = MahasiswaMagister(\"Vina\", \"3322301\", 3.9, \"Analisis Big Data\", \"Dr. Ida\")\n",
        "\n",
        "m1.tampilkan_info()\n",
        "print(\"Predikat:\", m1.hitung_predikat())\n",
        "\n",
        "print()\n",
        "\n",
        "m2.tampilkan_info()\n",
        "print(\"Predikat:\", m2.hitung_predikat())\n",
        "\n"
      ],
      "metadata": {
        "colab": {
          "base_uri": "https://localhost:8080/"
        },
        "id": "6m36OpwzlrS3",
        "outputId": "bc65836c-9554-4a22-ea79-de0a57515ba7"
      },
      "execution_count": 24,
      "outputs": [
        {
          "output_type": "stream",
          "name": "stdout",
          "text": [
            "Nama: Diah\n",
            "NIM: 43324207\n",
            "IPK: 3.8\n",
            "Semester: 2\n",
            "SKS Lulus: 27\n",
            "Predikat: Dengan Pujian\n",
            "\n",
            "Nama: Vina\n",
            "NIM: 3322301\n",
            "IPK: 3.9\n",
            "Judul Tesis: Analisis Big Data\n",
            "Pembimbing: Dr. Ida\n",
            "Predikat: Dengan Pujian Khusus\n"
          ]
        }
      ]
    },
    {
      "cell_type": "code",
      "source": [],
      "metadata": {
        "id": "O-QOgJmLlzai"
      },
      "execution_count": null,
      "outputs": []
    }
  ]
}