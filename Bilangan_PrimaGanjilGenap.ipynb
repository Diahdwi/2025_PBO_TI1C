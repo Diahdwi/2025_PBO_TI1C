{
  "nbformat": 4,
  "nbformat_minor": 0,
  "metadata": {
    "colab": {
      "provenance": [],
      "authorship_tag": "ABX9TyMDg3Sx70DPQJN4r0cI7ZAf",
      "include_colab_link": true
    },
    "kernelspec": {
      "name": "python3",
      "display_name": "Python 3"
    },
    "language_info": {
      "name": "python"
    }
  },
  "cells": [
    {
      "cell_type": "markdown",
      "metadata": {
        "id": "view-in-github",
        "colab_type": "text"
      },
      "source": [
        "<a href=\"https://colab.research.google.com/github/Diahdwi/2025_PBO_TI1C/blob/main/Bilangan_PrimaGanjilGenap.ipynb\" target=\"_parent\"><img src=\"https://colab.research.google.com/assets/colab-badge.svg\" alt=\"Open In Colab\"/></a>"
      ]
    },
    {
      "cell_type": "code",
      "execution_count": 1,
      "metadata": {
        "colab": {
          "base_uri": "https://localhost:8080/"
        },
        "id": "ugmHBJZuE6Xl",
        "outputId": "66d8e550-d5bc-4e37-d9c7-90f99d38c6ef"
      },
      "outputs": [
        {
          "output_type": "stream",
          "name": "stdout",
          "text": [
            "Masukkan bilangan: 2\n",
            "\n",
            "Hasil Analisis:\n",
            "Bilangan 2 adalah Genap\n",
            "Bilangan Prima\n"
          ]
        }
      ],
      "source": [
        "\n",
        "def cek_prima(n):\n",
        "    \"\"\"Fungsi untuk mengecek apakah bilangan prima\"\"\"\n",
        "    if n < 2:\n",
        "        return False\n",
        "    for i in range(2, int(n ** 0.5) + 1):\n",
        "        if n % i == 0:\n",
        "            return False\n",
        "    return True\n",
        "\n",
        "# Input dari user\n",
        "angka = int(input(\"Masukkan bilangan: \"))\n",
        "\n",
        "# Cek apakah genap atau ganjil\n",
        "if angka % 2 == 0:\n",
        "    jenis = \"Genap\"\n",
        "else:\n",
        "    jenis = \"Ganjil\"\n",
        "\n",
        "# Cek apakah prima\n",
        "if cek_prima(angka):\n",
        "    kategori = \"Bilangan Prima\"\n",
        "else:\n",
        "    kategori = \"Bukan Bilangan Prima\"\n",
        "\n",
        "# Hasil\n",
        "print(f\"\\nHasil Analisis:\")\n",
        "print(f\"Bilangan {angka} adalah {jenis}\")\n",
        "print(f\"{kategori}\")\n"
      ]
    },
    {
      "cell_type": "code",
      "source": [],
      "metadata": {
        "id": "coct0l--FTFA"
      },
      "execution_count": null,
      "outputs": []
    }
  ]
}